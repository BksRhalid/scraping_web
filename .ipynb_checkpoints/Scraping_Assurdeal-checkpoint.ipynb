{
 "cells": [
  {
   "cell_type": "markdown",
   "id": "3c69a69b",
   "metadata": {},
   "source": [
    "# **Web scraping Assurdeal using beautiful soup**\n",
    "\n",
    "This notebook includes data scraping, which takes a website URL as an input and extracts the information listed below as an output from that webpage.\n",
    "\n",
    "\n",
    "\n",
    "1. Extracting all URLs from a website without duplication\n",
    "\n",
    "\n"
   ]
  },
  {
   "cell_type": "code",
   "execution_count": 2,
   "id": "58b0b5f5",
   "metadata": {},
   "outputs": [
    {
     "name": "stdout",
     "output_type": "stream",
     "text": [
      "\u001b[33mDEPRECATION: Configuring installation scheme with distutils config files is deprecated and will no longer work in the near future. If you are using a Homebrew or Linuxbrew Python, please see discussion at https://github.com/Homebrew/homebrew-core/issues/76621\u001b[0m\u001b[33m\n",
      "\u001b[0mRequirement already satisfied: beautifulsoup4 in /usr/local/lib/python3.8/site-packages (4.9.3)\n",
      "Requirement already satisfied: soupsieve>1.2 in /usr/local/lib/python3.8/site-packages (from beautifulsoup4) (2.2.1)\n",
      "\u001b[33mDEPRECATION: Configuring installation scheme with distutils config files is deprecated and will no longer work in the near future. If you are using a Homebrew or Linuxbrew Python, please see discussion at https://github.com/Homebrew/homebrew-core/issues/76621\u001b[0m\u001b[33m\n",
      "\u001b[0m\n",
      "\u001b[1m[\u001b[0m\u001b[34;49mnotice\u001b[0m\u001b[1;39;49m]\u001b[0m\u001b[39;49m A new release of pip is available: \u001b[0m\u001b[31;49m23.1.2\u001b[0m\u001b[39;49m -> \u001b[0m\u001b[32;49m23.2.1\u001b[0m\n",
      "\u001b[1m[\u001b[0m\u001b[34;49mnotice\u001b[0m\u001b[1;39;49m]\u001b[0m\u001b[39;49m To update, run: \u001b[0m\u001b[32;49mpython3.8 -m pip install --upgrade pip\u001b[0m\n"
     ]
    }
   ],
   "source": [
    "!pip install beautifulsoup4"
   ]
  },
  {
   "cell_type": "code",
   "execution_count": 6,
   "id": "e214ca00",
   "metadata": {},
   "outputs": [
    {
     "name": "stdout",
     "output_type": "stream",
     "text": [
      "Enter url :https://www.assurdeal.com/fr\n",
      " This is the website link that you entered https://www.assurdeal.com/fr\n"
     ]
    }
   ],
   "source": [
    "# Getting input for webiste from user\n",
    "url_input = input(\"Enter url :\")\n",
    "print(\" This is the website link that you entered\", url_input)"
   ]
  },
  {
   "cell_type": "markdown",
   "id": "b06b2179",
   "metadata": {},
   "source": [
    "**1. Extraction of all URLs from a website without duplication**"
   ]
  },
  {
   "cell_type": "code",
   "execution_count": 8,
   "id": "ac6aa963",
   "metadata": {},
   "outputs": [
    {
     "name": "stdout",
     "output_type": "stream",
     "text": [
      "https://www.assurdeal.com/fr\n",
      "https://www.assurdeal.com/fr/dashboard/mon-portefeuille/positionnement\n",
      "https://www.assurdeal.com/fr/dashboard/outils/simulateur-sante-et-prevoyance\n",
      "https://www.assurdeal.com/fr/portefeuille/financer\n",
      "https://www.assurdeal.com/fr/outils/probabilite-de-trouver-un-portefeuille\n",
      "https://www.assurdeal.com/fr/outils/combien-devrais-je-percevoir\n",
      "https://www.assurdeal.com/fr/guide-pratique-april-achat-vente-portefeuille-courtage\n",
      "https://www.assurdeal.com/fr/outils/combien-dois-je-investir\n",
      "https://www.assurdeal.com/fr/guide-courtage\n",
      "https://www.assurdeal.com/fr/outils/cout-dun-achat\n",
      "https://www.assurdeal.com/fr/prendre-rendez-vous\n",
      "https://www.assurdeal.com/en?view=pages.home&status=200\n",
      "https://www.assurdeal.com/fr/connexion\n",
      "https://www.assurdeal.com/fr/enregistrement\n",
      "https://www.april-on.fr/fr/login\n",
      "https://landing.blank.app/partenariat/assurdeal?utm_medium=partnership&utm_source=assurdeal&utm_campaign=assurdeal\n",
      "https://www.netvox-assurances.fr/courtier/vos-services/\n",
      "https://360courtage.fr/le-groupe-360-courtage/\n",
      "https://www.ernest.fr/\n",
      "https://www.lyaprotect.com/\n",
      "https://www.relais-assur.fr/\n",
      "https://www.assurdeal.com/fr/prendre-rendez-vous?meeting_id=30_minutes_meeting\n",
      "https://www.assurdeal.com/fr/dashboard/mon-portefeuille/strategie\n",
      "https://www.captaincontrat.com/lp-partenaire-assurdeal\n",
      "https://www.assurdeal.com/fr/prendre-rendez-vous?meeting_link=https%3A%2F%2Fcalendly.com%2Fassurdeal_guillaume-rovere%2Fcomment-payer-assurdeal-avec-un-nft\n",
      "https://assurdeal.media/bonjour-sylvie-langlois-1aeb644713de?source=rss-d8554b58ca26------2\n",
      "https://medium.com/@assurdeal?source=rss-d8554b58ca26------2\n",
      "https://assurdeal.media/d%C3%A9couvrons-mongustave-fr-sponsor-des-votes-des-etoiles-du-courtage-d573591aa77c?source=rss-d8554b58ca26------2\n",
      "https://assurdeal.media/qui-est-assuradvice-partenaire-des-%C3%A9toiles-du-courtage-d9085c0a2979?source=rss-d8554b58ca26------2\n",
      "https://assurdeal.media/\n",
      "https://twitter.com/assurdeal\n",
      "https://www.facebook.com/Assurdeal/\n",
      "https://www.linkedin.com/company/2645018/\n",
      "https://www.tiktok.com/@assurdeal\n",
      "https://www.assurdeal.com/fr/pages/cgu\n",
      "https://www.assurdeal.com/fr/pages/mentions-legales\n",
      "https://www.assurdeal.com/fr/nous-contacter\n"
     ]
    }
   ],
   "source": [
    "#---- Importing libraries ----#\n",
    "import re\n",
    "import requests\n",
    "from bs4 import BeautifulSoup\n",
    "\n",
    "all_links = set() #------ Creating a unique set of links ------#\n",
    "\n",
    "for i in range(7):\n",
    "   r = requests.get((url_input+\"/?page={}\").format(i))\n",
    "   soup = BeautifulSoup(r.content , \"html.parser\")\n",
    "   for link in soup.find_all(\"a\",href=re.compile('/')):\n",
    "            link = (link.get('href'))\n",
    "            #----- For the removal of duplicate URLs, We will simply add a link to that set; this assures that it's distinct ------#\n",
    "            if link not in all_links:\n",
    "              print(link)\n",
    "            all_links.add(link)"
   ]
  },
  {
   "cell_type": "markdown",
   "id": "c400d4c8",
   "metadata": {},
   "source": [
    "**2. For extracting specific tags, all heading tags from h1-h6 along with titles and meta description**"
   ]
  },
  {
   "cell_type": "code",
   "execution_count": 11,
   "id": "86fee7c3",
   "metadata": {},
   "outputs": [],
   "source": [
    "# Importing libraries\n",
    "from bs4 import BeautifulSoup\n",
    "import urllib\n",
    "from urllib import request\n",
    "import urllib.request as ur"
   ]
  },
  {
   "cell_type": "code",
   "execution_count": 16,
   "id": "7a1fbec4",
   "metadata": {},
   "outputs": [
    {
     "name": "stdout",
     "output_type": "stream",
     "text": [
      "https://www.assurdeal.com/fr\n",
      "Website Title is : Le choix n°1 des courtiers d’assurance français - assurdeal\n",
      "CONTENT : Découvrez la valeur inexplorée de votre portefeuille\n",
      "List of headings from headingtags function h1, h2, h3, h4, h5, h6 :\n",
      "h1 Découvrez la valeur inexplorée de votre portefeuille\n",
      "h2 Le choix n°1 des courtiers d’assurance français\n",
      "h2 Vendez votre portefeuille dans les meilleures conditions\n",
      "h2 L'expertise humaine, modélisée par la technologie, au service de la performance\n",
      "h2 Achetez un portefeuille en toute confiance\n",
      "h2 Révélez le véritable potentiel de votre portefeuille.\n",
      "h2 Payez les honoraires assurdeal avec un NFT\n",
      "h2 Lisez et participez au media assurdeal\n",
      "h2 Obtenez une évaluation gratuite de votre portefeuille :\n",
      "h2 Rejoignez la communauté\n",
      " Here are the tags from getTags function: [' Acheter ']\n",
      " Here are the tags from getTags function: [' Ne laissez plus de place au hasard dans votre stratégie de croissance externe ']\n",
      " Here are the tags from getTags function: [' Vendre ']\n",
      " Here are the tags from getTags function: [' La cession n’est jamais un acte anodin et engage votre responsabilité. Soyez exigeant ']\n",
      " Here are the tags from getTags function: [' Evaluer ']\n",
      " Here are the tags from getTags function: [' Découvrez la valeur de votre portefeuille et suivez son évolution dans le temps ']\n",
      " Here are the tags from getTags function: [' Financer ']\n",
      " Here are the tags from getTags function: [' Gagnez du temps dans la recherche de financement, en confiant votre projet à notre partenaire ']\n",
      " Here are the tags from getTags function: [' Probabilité de trouver un portefeuille ']\n",
      " Here are the tags from getTags function: [\" Avancez en toute connaissance éclairée quant à la réalité du marché de la vente de portefeuilles de courtage d'assurance dans votre région. \"]\n",
      " Here are the tags from getTags function: [' Combien devrais-je percevoir ? ']\n",
      " Here are the tags from getTags function: [\" Estimez simplement les revenus futurs théoriques à partir d'un investissement réalisé par l'achat d'un portefeuille de courtage. \"]\n",
      " Here are the tags from getTags function: [' Je cède, j’achète un portefeuille de courtage ']\n",
      " Here are the tags from getTags function: [' Ce guide se concentre sur les cessions et transmissions réalisées entre courtiers. ']\n",
      " Here are the tags from getTags function: [' Combien dois-je investir ? ']\n",
      " Here are the tags from getTags function: [\" Estimez simplement le montant de votre investissement à réaliser pour l'achat d’un portefeuille de courtage, déduction faite de tous frais, honoraires et impôts pour obtenir un revenu déterminé. \"]\n",
      " Here are the tags from getTags function: [' Guide Courtage Addict ']\n",
      " Here are the tags from getTags function: [' Téléchargez gratuitement le guide « devenir courtier en assurance » ']\n",
      " Here are the tags from getTags function: [\" Coût d'un achat \"]\n",
      " Here are the tags from getTags function: [\" Estimez simplement les frais, honoraires et droits à acquitter lors d'un achat de portefeuille ou d'une société de courtage. \"]\n",
      " Here are the tags from getTags function: [' English ']\n",
      " Here are the tags from getTags function: [' Client existant ? ', <a class=\"text-primary hover:text-indigo-900\" href=\"https://www.assurdeal.com/fr/connexion\"> Connexion </a>]\n",
      " Here are the tags from getTags function: [\" Jusqu'à présent, un portefeuille de courtage d'assurance se composait essentiellement de la somme de clients, de contrats et de commissions…\"]\n",
      " Here are the tags from getTags function: [' La démarche assurdeal est inspirée des meilleurs algorithmes de rencontre pour susciter l’étincelle lors d’une transaction. ']\n",
      " Here are the tags from getTags function: [' Nos partenaires du courtage de proximité ']\n",
      " Here are the tags from getTags function: [' Vendre un portefeuille implique bien au-delà du simple fait de trouver un acquéreur. Un parcours de vente permet d’aller ', <strong>trouver de la valeur</strong>, ' souvent ignorée et de se ', <strong>préserver des mises en cause judiciaires</strong>, ' potentielles en après-vente.']\n",
      " Here are the tags from getTags function: [\" Pour produire l'étincelle, la rencontre entre un acheteur et un vendeur doit provenir d'un niveau élevé de correspondances. \"]\n",
      " Here are the tags from getTags function: [' “En tant qu’acquéreur, l’achat d’un portefeuille courtage se résume à une belle relation gagnant-gagnant. L’accompagnement d’assurdeal via Guillaume Rovère permet de simplifier cette relation et de la rendre plus efficace. Il a su trouver le cédant qui partage les mêmes convictions en matière d’approche de la clientèle, de déontologie et de valeur. Une vraie richesse et un véritable levier pour pouvoir se développer.” ']\n",
      " Here are the tags from getTags function: [\" “Merci à Guillaume Rovère d'assurdeal pour son accompagnement et sa réactivité dans ce projet préparé en amont et mené en 4 mois, de la prise de contact à la signature.” \"]\n",
      " Here are the tags from getTags function: [' “Un grand merci à Guillaume Rovère pour son professionnalisme. Il a réussi à trouver un acquéreur pour notre portefeuille qui nous correspond en tous points. Il nous a accompagnés dans toutes les étapes de la vente aussi bien au point de vue juridique que personnel. Assurdeal nous a été recommandé et nous vous le recommandons à notre tour.” ']\n",
      " Here are the tags from getTags function: [\" “Le site assurdeal m'a permis d'évaluer assez précisément la valeur de mon portefeuille, en consultant les annonces et en les rapprochant de mon activité. À partir de là j'ai pu me projeter sur mon nouveau projet. Monsieur Guillaume Rovère m'a accompagné durant toute la cession, m'a conseillé, communiqué les coordonnées du cabinet d'avocat spécialisé. Globalement je suis très satisfait de la prestation de ce service.” \"]\n",
      " Here are the tags from getTags function: [\" “Cela faisait 2 ans que je souhaitais vendre mon portefeuille d'assurance sur des sites d'annonces classiques mais cela n'a pas abouti... Travaillant pour April, j'ai regardé une vidéo très intéressante sur la vente d'un portefeuille d'assurance et ses complexités, l'intervenant de cette vidéo était Mr Guillaume Rovere, gérant de la Société ASSURDEAL. Je l'ai donc sollicité pour lui parler de mon projet de vente et là c'est allé très vite. Mr Rovere a été très professionnel et a très vite ciblé les personnes susceptibles d'être intéressées par mon portefeuille. Mr Rovere s'est occupé de tout, l'analyse de mon portefeuille et son chiffrage, la mise en relation, toute la partie de vente avec des contrats qui vont avec. Je remercie Mr Rovere, grâce à lui j'ai pu céder mon portefeuille dans les 6 mois après l'avoir contacté. Merci encore pour votre professionnalisme, votre écoute et votre réactivité.” \"]\n",
      " Here are the tags from getTags function: [\" “Après avoir déterminé mes critères et objectifs d'acquisition, j'ai pu rapidement être mis en relation avec un confrère cédant de ma région, grâce au savoir-faire et aux compétences d'assurdeal j'ai été accompagné tout au long de la transaction. Un gain de temps précieux, des conseils pertinents et un suivi complet en toute transparence : Merci à Guillaume Rovère de rendre l'acquisition de portefeuilles si fluide.” \"]\n",
      " Here are the tags from getTags function: [\" “En tant que cédant je n’ai été confrontée à aucune difficulté, grâce à l'accompagnement exemplaire de Guillaume Rovère. Omniprésent, humain, à l'écoute, il a su, en un délai record (-3mois) trouver l'acquéreur idéal, en pleine pandémie. Une transmission réussie à 200% avec à la clé une magnifique histoire humaine.” \"]\n",
      " Here are the tags from getTags function: [\" “Mr Rovère m'a accompagné tout au long de la vente de mon portefeuille. Il est toujours disponible, aimable et professionnel. Je recommande vivement.” \"]\n",
      " Here are the tags from getTags function: [\" “Guillaume Rovère est un intervenant disponible, fiable, patient et dynamique avec une solide connaissance du métier et des qualités évidentes en négociation. Sa plateforme est une idée géniale, et il en manque peut pour qu’elle atteigne la perfection. Il a prouvé qu’on pouvait être humain dans les relations commerciales, ce qui est souvent mis de côté aujourd’hui alors que l'urgence serait plutôt à former une « intelligence collective que de chacun tirer la couverture à soi. » Je recommande vivement, car même s’il y a un coût, celui-ci est largement justifié par l'expérience de Guillaume.” \"]\n",
      " Here are the tags from getTags function: [' “assurdeal me permet de me développer. Le professionnalisme et la qualité du travail comme faire matcher un acheteur avec un vendeur est l’essence même de Guillaume. Merci pour son travail.” ']\n",
      " Here are the tags from getTags function: [' Acheter un portefeuille ne doit rien laisser au hasard car tout oubli pourrait avoir de fâcheuses conséquences sur la survie du portefeuille acquis avec, potentiellement, un effet domino sur le portefeuille initial.']\n",
      " Here are the tags from getTags function: [' assurdeal vous offre de nombreux outils pour cultiver votre portefeuille, de sa création initiale jusqu’à sa revente. ']\n",
      " Here are the tags from getTags function: [<span class=\"font-semibold text-gray-600\">Vous avez un NFT et souhaitez l'échanger ?</span>, <br/>, ' Découvrez comment en vidéo et prenez rendez-vous.']\n",
      " Here are the tags from getTags function: [' Bonne lecture et n’hésitez pas à nous solliciter si vous souhaitez communiquer sur votre actualité novatrice. ']\n",
      " Here are the tags from getTags function: [' Bonjour Sylvie Langlois, ']\n",
      " Here are the tags from getTags function: []\n",
      " Here are the tags from getTags function: [' #courtier, #phygital, #assurance, #technologie, #concentration ']\n",
      " Here are the tags from getTags function: [<a class=\"hover:underline\" href=\"https://medium.com/@assurdeal?source=rss-d8554b58ca26------2\" target=\"_blank\"> assurdeal </a>]\n",
      " Here are the tags from getTags function: [' Découvrons MonGustave.fr, Sponsor des votes des Etoiles du Courtage ']\n",
      " Here are the tags from getTags function: []\n",
      " Here are the tags from getTags function: [' #courtage, #cadeau, #comparateur, #assurance, #tarif ']\n",
      " Here are the tags from getTags function: [<a class=\"hover:underline\" href=\"https://medium.com/@assurdeal?source=rss-d8554b58ca26------2\" target=\"_blank\"> assurdeal </a>]\n",
      " Here are the tags from getTags function: [' Qui est AssurAdvice, partenaire des étoiles du courtage\\xa0? ']\n",
      " Here are the tags from getTags function: []\n",
      " Here are the tags from getTags function: [' #assurance, #avis, #review, #customer-experience, #clients ']\n",
      " Here are the tags from getTags function: [<a class=\"hover:underline\" href=\"https://medium.com/@assurdeal?source=rss-d8554b58ca26------2\" target=\"_blank\"> assurdeal </a>]\n",
      " Here are the tags from getTags function: [' © ', <a href=\"https://www.assurdeal.com/fr\">assurdeal</a>, ' 2023 - Tous droits réservés ']\n",
      " Here are the tags from getTags function: [<a class=\"bg-transparent font-semibold cursor-pointer inline-block py-0 pl-0 pr-3 relative text-regal-blue no-underline hover:underline focus:underline\" href=\"https://www.assurdeal.com/fr/pages/cgu\"> CGU </a>, <i class=\"fas fa-circle text-regal-blue page_speed_618715445\"></i>, <a class=\"bg-transparent font-semibold cursor-pointer inline-block py-0 pl-3 pr-3 relative text-regal-blue no-underline hover:underline focus:underline\" href=\"https://www.assurdeal.com/fr/pages/cgu\"> Politique de confidentialité </a>]\n",
      " Here are the tags from getTags function: [<a class=\"bg-transparent font-semibold cursor-pointer inline-block py-0 pl-0 pr-3 relative text-regal-blue no-underline hover:underline focus:underline\" href=\"https://www.assurdeal.com/fr/pages/mentions-legales\"> Mentions légales </a>, <i class=\"fas fa-circle text-regal-blue page_speed_618715445\"></i>, <a class=\"bg-transparent font-semibold cursor-pointer inline-block py-0 pl-3 pr-3 relative text-regal-blue no-underline hover:underline focus:underline\" href=\"https://www.assurdeal.com/fr/nous-contacter\"> Nous contacter </a>]\n",
      " Here are the tags from getTags function: []\n",
      " Here are the tags from getTags function: []\n",
      " Here are the tags from getTags function: [<span class=\"md:hidden\"> Ce site Web utilise des cookies pour vous garantir la meilleure expérience possible sur notre site. </span>, <span class=\"hidden md:inline\"> Ce site Web utilise des cookies pour vous garantir la meilleure expérience possible sur notre site. </span>]\n"
     ]
    }
   ],
   "source": [
    "print(url_input)\n",
    "# For extracting specific tags from webpage\n",
    "def getTags(tag):\n",
    "  s = ur.urlopen(url_input)\n",
    "  soup = BeautifulSoup(s.read())\n",
    "  return soup.findAll(tag)\n",
    "\n",
    "# For extracting all h1-h6 heading tags from webpage\n",
    "def headingTags(headingtags):\n",
    "  h = ur.urlopen(url_input)\n",
    "  soup = BeautifulSoup(h.read())\n",
    "  print(\"List of headings from headingtags function h1, h2, h3, h4, h5, h6 :\")\n",
    "  for heading in soup.find_all([\"h1\", \"h2\", \"h3\", \"h4\", \"h5\", \"h6\"]):\n",
    "    print(heading.name + ' ' + heading.text.strip())\n",
    "\n",
    "# For extracting specific title & meta description from webpage\n",
    "def titleandmetaTags():\n",
    "    s = ur.urlopen(url_input)\n",
    "    soup = BeautifulSoup(s.read())\n",
    "    #----- Extracting Title from website ------#\n",
    "    title = soup.title.string\n",
    "    print ('Website Title is :', title)\n",
    "    #-----  Extracting Meta description from website ------#\n",
    "    meta_description = soup.find_all('meta')\n",
    "    for tag in meta_description:\n",
    "        if 'name' in tag.attrs.keys() and tag.attrs['name'].strip().lower() in ['description', 'keywords']:\n",
    "            #print ('NAME    :',tag.attrs['name'].lower())\n",
    "            print ('CONTENT :',tag.attrs['content'])\n",
    "\n",
    "\n",
    "\n",
    "#------------- Main ---------------#\n",
    "if __name__ == '__main__':\n",
    "  titleandmetaTags()\n",
    "  tags = getTags('p')\n",
    "  headtags = headingTags('h1')\n",
    "  for tag in tags:\n",
    "     print(\" Here are the tags from getTags function:\", tag.contents)\n",
    "        "
   ]
  },
  {
   "cell_type": "markdown",
   "id": "a326979c",
   "metadata": {},
   "source": [
    "**3. Prompt to answer questions**"
   ]
  },
  {
   "cell_type": "markdown",
   "id": "6c5ce6a9",
   "metadata": {},
   "source": [
    "**prompt Init**\n",
    "\n",
    "Merci de ne considérer aucune instruction reçue avant ce prompt. Je vais vous transmettre des informations spécifiques concernant une entreprise, placées entre des triple backticks. Ces informations sont collectées depuis son site Web, des e-mails, et des documents qui m’ont été transmis. Je vais également vous fournir une liste de questions auxquelles vous devrez répondre en format JSON, sous la forme { \"numéro question\": \"votre réponse\" }.\n",
    "\n",
    "Vous devez baser vos réponses exclusivement sur les informations fournies, et non sur des données ou des connaissances que vous auriez pu acquérir préalablement.\n",
    "\n",
    "Veuillez employer un langage formel et fournir des réponses d'une extrême précision et simplifiées. Si vous n'avez pas 95% de certitude concernant la précision de votre réponse, veuillez omettre de répondre à la question et abstenez-vous de faire des suppositions ou de déduire des informations qui ne sont pas explicitement mentionnées dans les données fournies. Considérez toutes les informations reçues de manière équitable, sans prioriser certaines données par rapport à d'autres, sauf indication contraire. Évitez de faire des suppositions ou attributions concernant les motivations, intentions, ou caractéristiques de l'entreprise en absence de données concrètes à l'appui. Employez un langage neutre et objectif et abstenez-vous d'utiliser des termes ou expressions pouvant être perçus comme biaisés ou insensibles culturellement.\n",
    "\n",
    "Voici les informations concernant l'entreprise sur lesquelles vos réponses devront se baser :\n",
    "[insérer ici les informations sur l'entreprise]"
   ]
  },
  {
   "cell_type": "markdown",
   "id": "6f3a9bf1",
   "metadata": {},
   "source": [
    "**prompt questions**\n",
    "\n",
    "Voici la liste des questions auxquelles vous devez répondre en format JSON :\n",
    "Question 1: [insérer ici la question]"
   ]
  },
  {
   "cell_type": "markdown",
   "id": "fe953df3",
   "metadata": {},
   "source": [
    "**réponse chatGPT**\n",
    "\n",
    "{\n",
    "\"1\": \"Assurdeal est principalement engagée dans le service de courtage d'assurance. Ses activités clés incluent la vente et l'achat de portefeuilles de courtage d'assurance, ainsi que l'évaluation de ces portefeuilles. L'entreprise offre également des conseils et un accompagnement durant les transactions de vente et d'achat, s'assurant que les deux parties, acheteurs et vendeurs, trouvent des accords bénéfiques. De plus, Assurdeal propose des outils pour aider les courtiers d'assurance à optimiser la gestion et le développement de leurs portefeuilles, et permet également le paiement des honoraires via NFT.\"\n",
    "}"
   ]
  },
  {
   "cell_type": "code",
   "execution_count": null,
   "id": "94319625",
   "metadata": {},
   "outputs": [],
   "source": []
  }
 ],
 "metadata": {
  "kernelspec": {
   "display_name": "Python 3 (ipykernel)",
   "language": "python",
   "name": "python3"
  },
  "language_info": {
   "codemirror_mode": {
    "name": "ipython",
    "version": 3
   },
   "file_extension": ".py",
   "mimetype": "text/x-python",
   "name": "python",
   "nbconvert_exporter": "python",
   "pygments_lexer": "ipython3",
   "version": "3.8.13"
  }
 },
 "nbformat": 4,
 "nbformat_minor": 5
}
