{
 "cells": [
  {
   "cell_type": "markdown",
   "id": "4b10ebdb",
   "metadata": {},
   "source": [
    "# **Web scraping Assurdeal using beautiful soup**\n",
    "\n",
    "This notebook includes data scraping, which takes a website URL as an input and extracts the information listed below as an output from that webpage.\n",
    "\n",
    "\n",
    "\n",
    "1. Extracting all URLs from a website without duplication\n",
    "\n",
    "\n"
   ]
  },
  {
   "cell_type": "code",
   "execution_count": 2,
   "id": "c8b51b33",
   "metadata": {},
   "outputs": [
    {
     "name": "stdout",
     "output_type": "stream",
     "text": [
      "\u001b[33mDEPRECATION: Configuring installation scheme with distutils config files is deprecated and will no longer work in the near future. If you are using a Homebrew or Linuxbrew Python, please see discussion at https://github.com/Homebrew/homebrew-core/issues/76621\u001b[0m\u001b[33m\n",
      "\u001b[0mRequirement already satisfied: beautifulsoup4 in /usr/local/lib/python3.8/site-packages (4.9.3)\n",
      "Requirement already satisfied: soupsieve>1.2 in /usr/local/lib/python3.8/site-packages (from beautifulsoup4) (2.2.1)\n",
      "\u001b[33mDEPRECATION: Configuring installation scheme with distutils config files is deprecated and will no longer work in the near future. If you are using a Homebrew or Linuxbrew Python, please see discussion at https://github.com/Homebrew/homebrew-core/issues/76621\u001b[0m\u001b[33m\n",
      "\u001b[0m\n",
      "\u001b[1m[\u001b[0m\u001b[34;49mnotice\u001b[0m\u001b[1;39;49m]\u001b[0m\u001b[39;49m A new release of pip is available: \u001b[0m\u001b[31;49m23.1.2\u001b[0m\u001b[39;49m -> \u001b[0m\u001b[32;49m23.2.1\u001b[0m\n",
      "\u001b[1m[\u001b[0m\u001b[34;49mnotice\u001b[0m\u001b[1;39;49m]\u001b[0m\u001b[39;49m To update, run: \u001b[0m\u001b[32;49mpython3.8 -m pip install --upgrade pip\u001b[0m\n"
     ]
    }
   ],
   "source": [
    "!pip install beautifulsoup4"
   ]
  },
  {
   "cell_type": "code",
   "execution_count": 6,
   "id": "ff763708",
   "metadata": {},
   "outputs": [
    {
     "name": "stdout",
     "output_type": "stream",
     "text": [
      "Enter url :https://www.assurdeal.com/fr\n",
      " This is the website link that you entered https://www.assurdeal.com/fr\n"
     ]
    }
   ],
   "source": [
    "# Getting input for webiste from user\n",
    "url_input = input(\"Enter url :\")\n",
    "print(\" This is the website link that you entered\", url_input)"
   ]
  },
  {
   "cell_type": "markdown",
   "id": "493ba00e",
   "metadata": {},
   "source": [
    "**1. Extraction of all URLs from a website without duplication**"
   ]
  },
  {
   "cell_type": "code",
   "execution_count": 4,
   "id": "2247412f",
   "metadata": {},
   "outputs": [
    {
     "name": "stdout",
     "output_type": "stream",
     "text": [
      "https://techoid.co\n",
      "https://techoid.co/\n",
      "https://techoid.co/about-us\n",
      "https://techoid.co/services\n",
      "https://techoid.co/web-development\n",
      "https://techoid.co/mobile-app-development\n",
      "https://techoid.co/cms-development\n",
      "https://techoid.co/digital-marketing\n",
      "https://techoid.co/graphics-designing\n",
      "https://techoid.co/ui-ux\n",
      "https://techoid.co/content-writing\n",
      "https://techoid.co/ai\n",
      "https://techoid.co/iot-based-solutions\n",
      "https://techoid.co/database-development\n",
      "https://techoid.co/it-outsourcing\n",
      "https://techoid.co/software\n",
      "https://techoid.co/asset-tracking\n",
      "https://techoid.co/inventory-management-system\n",
      "https://techoid.co/project-management-system\n",
      "https://techoid.co/erp\n",
      "https://techoid.co/employee-management-system\n",
      "https://techoid.co/hospital-management-system\n",
      "https://techoid.co/careers\n",
      "https://techoid.co/contact-us\n",
      "https://www.designrush.com/agency/search-engine-optimization/local-seo\n",
      "https://barcodes.pk/\n",
      "https://leathersoutlet.com/\n",
      "https://techoid.uk\n",
      "https://techoid.co/services/software-development\n",
      "https://techoid.co/team/hafiz-ibad-jabbar\n",
      "https://techoid.co/team/muhammad-kamran-ansari\n",
      "https://triplona.com/\n",
      "https://shetravelspk.com/\n",
      "https://techoid.co/case-studies\n",
      "/\n",
      "/careers\n",
      "https://wa.me/923110206987\n",
      "https://g.page/Techoid\n",
      "https://www.facebook.com/Techoid.co\n",
      "https://twitter.com/Techoidco\n",
      "https://www.linkedin.com/company/techoid\n",
      "https://www.instagram.com/techoidco/\n",
      "https://www.youtube.com/channel/UCR4AbK585_KDeVXnD_qv-fg/\n"
     ]
    }
   ],
   "source": [
    "#---- Importing libraries ----#\n",
    "import re\n",
    "import requests\n",
    "from bs4 import BeautifulSoup\n",
    "\n",
    "all_links = set() #------ Creating a unique set of links ------#\n",
    "\n",
    "for i in range(7):\n",
    "   r = requests.get((url_input+\"/?page={}\").format(i))\n",
    "   soup = BeautifulSoup(r.content , \"html.parser\")\n",
    "   for link in soup.find_all(\"a\",href=re.compile('/')):\n",
    "            link = (link.get('href'))\n",
    "            #----- For the removal of duplicate URLs, We will simply add a link to that set; this assures that it's distinct ------#\n",
    "            if link not in all_links:\n",
    "              print(link)\n",
    "            all_links.add(link)"
   ]
  },
  {
   "cell_type": "code",
   "execution_count": null,
   "id": "8ee2d424",
   "metadata": {},
   "outputs": [],
   "source": [
    "# For extracting specific tags from webpage\n",
    "def getTags(tag):\n",
    "  s = ur.urlopen(url_input)\n",
    "  soup = BeautifulSoup(s.read())\n",
    "  return soup.findAll(tag)\n",
    "\n",
    "# For extracting all h1-h6 heading tags from webpage\n",
    "def headingTags(headingtags):\n",
    "  h = ur.urlopen(url_input)\n",
    "  soup = BeautifulSoup(h.read())\n",
    "  print(\"List of headings from headingtags function h1, h2, h3, h4, h5, h6 :\")\n",
    "  for heading in soup.find_all([\"h1\", \"h2\", \"h3\", \"h4\", \"h5\", \"h6\"]):\n",
    "    print(heading.name + ' ' + heading.text.strip())\n",
    "\n",
    "# For extracting specific title & meta description from webpage\n",
    "def titleandmetaTags():\n",
    "    s = ur.urlopen(urlinput)\n",
    "    soup = BeautifulSoup(s.read())\n",
    "    #----- Extracting Title from website ------#\n",
    "    title = soup.title.string\n",
    "    print ('Website Title is :', title)\n",
    "    #-----  Extracting Meta description from website ------#\n",
    "    meta_description = soup.find_all('meta')\n",
    "    for tag in meta_description:\n",
    "        if 'name' in tag.attrs.keys() and tag.attrs['name'].strip().lower() in ['description', 'keywords']:\n",
    "            #print ('NAME    :',tag.attrs['name'].lower())\n",
    "            print ('CONTENT :',tag.attrs['content'])\n",
    "\n",
    "\n",
    "\n",
    "#------------- Main ---------------#\n",
    "if __name__ == '__main__':\n",
    "  titleandmetaTags()\n",
    "  tags = getTags('p')\n",
    "  headtags = headingTags('h1')\n",
    "  for tag in tags:\n",
    "     print(\" Here are the tags from getTags function:\", tag.contents)\n",
    "        "
   ]
  },
  {
   "cell_type": "markdown",
   "id": "a9c41852",
   "metadata": {},
   "source": [
    "**5. For inspecting Broken links inside a webpage**\n",
    "\n",
    "We want to retrieve the response code 200 if the site is fully functional. We'll get the 404 response code if it's not available."
   ]
  }
 ],
 "metadata": {
  "kernelspec": {
   "display_name": "Python 3 (ipykernel)",
   "language": "python",
   "name": "python3"
  },
  "language_info": {
   "codemirror_mode": {
    "name": "ipython",
    "version": 3
   },
   "file_extension": ".py",
   "mimetype": "text/x-python",
   "name": "python",
   "nbconvert_exporter": "python",
   "pygments_lexer": "ipython3",
   "version": "3.8.13"
  }
 },
 "nbformat": 4,
 "nbformat_minor": 5
}
